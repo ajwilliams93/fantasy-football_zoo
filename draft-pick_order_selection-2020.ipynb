{
 "cells": [
  {
   "cell_type": "code",
   "execution_count": null,
   "metadata": {
    "ExecuteTime": {
     "end_time": "2020-09-01T18:28:50.286586Z",
     "start_time": "2020-09-01T18:28:49.834723Z"
    }
   },
   "outputs": [],
   "source": [
    "from numpy.random import choice\n",
    "import time"
   ]
  },
  {
   "cell_type": "code",
   "execution_count": null,
   "metadata": {
    "ExecuteTime": {
     "end_time": "2020-09-01T18:29:01.843446Z",
     "start_time": "2020-09-01T18:29:01.838879Z"
    }
   },
   "outputs": [],
   "source": [
    "def ryd3r_draft_selection():\n",
    "#     selects list of ryd3rs based on predetermined probabilities\n",
    "    select_ryd3rs = choice(['Trojan Ted', 'Gardener', 'LBN', 'Dare', 'Air Parker', \n",
    "                             'B-rad the Builder', 'Sky God', 'Unkle T' ], size=8, replace=False, \n",
    "                           p=[.33, .2, .15, .1, .08, .06, .05, .03])\n",
    "#     prints each ryd3r\n",
    "    for i in range(len(select_ryd3rs)):\n",
    "#     waits 5 seconds between picks\n",
    "        time.sleep(30)\n",
    "        print(f'Pick {i+1}: {select_ryd3rs[i]}')"
   ]
  },
  {
   "cell_type": "code",
   "execution_count": null,
   "metadata": {
    "ExecuteTime": {
     "end_time": "2020-09-01T18:29:02.789465Z",
     "start_time": "2020-09-01T18:29:02.784584Z"
    }
   },
   "outputs": [],
   "source": [
    "ryd3r_draft_selection()"
   ]
  }
 ],
 "metadata": {
  "kernelspec": {
   "display_name": "Python 3",
   "language": "python",
   "name": "python3"
  },
  "language_info": {
   "codemirror_mode": {
    "name": "ipython",
    "version": 3
   },
   "file_extension": ".py",
   "mimetype": "text/x-python",
   "name": "python",
   "nbconvert_exporter": "python",
   "pygments_lexer": "ipython3",
   "version": "3.7.1"
  }
 },
 "nbformat": 4,
 "nbformat_minor": 2
}
